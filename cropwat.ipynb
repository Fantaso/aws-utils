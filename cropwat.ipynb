{
 "cells": [
  {
   "cell_type": "code",
   "execution_count": 95,
   "metadata": {},
   "outputs": [],
   "source": [
    "# RESOURCE PAPER FOLLOW\n",
    "# http://www.fao.org/docrep/X0490E/x0490e06.htm#TopOfPage"
   ]
  },
  {
   "cell_type": "code",
   "execution_count": 138,
   "metadata": {},
   "outputs": [],
   "source": [
    "# aerodynamic_resistance\n",
    "wind_speed_measurement = 1 # MEASUREMENT [m / s]\n",
    "crop_height_ref = 0.12 # [m]\n",
    "wind_measurement_height = 2 # [m] \n",
    "RH_measurement_height = 2 # [m]\n",
    "KARMAN_CONSTANT = 0.41 # [None]\n",
    "\n",
    "# surface_resistance\n",
    "STOMATAL_RESISTANCE = 100 # [s / m] platn surface openess to disipate water vapor \n",
    "\n",
    "# average_atmospheric_pressure\n",
    "elevation_above_sea_level = 1800 # [m] MEASUREMENT \n",
    "\n",
    "# psychrometric_constant\n",
    "VAPORIZATION_LATENT_HEAT = 2.45 # [MJ / kg] # This is the latent heat for an air temperature of about 20°C.\n",
    "atmospheric_pressure = 1 # [kPa]\n",
    "SPECIFIC_AIR_HEAT_AT_CONSTANT_PRESSURE = 1.013e-3 # [MJ / kg * Clcius]\n",
    "RATIO_MOLECULAR_WEIGHT_WATER_VAPOUR_AND_DRY_AIR = 0.622 # [None] is a ratio - no units\n",
    "\n",
    "# air_temp_mean\n",
    "air_temp_max = 25 # [°C] -> converted to kelvin\n",
    "air_temp_min = 18 # [°C] -> converted to kelvin\n",
    "\n",
    "# actual_vapour_pressure\n",
    "air_rhumidity_max = 82 # [%]\n",
    "air_rhumidity_min = 54 # [%]\n",
    "# actual_vapour_pressure_rh\n",
    "from statistics import mean \n",
    "air_rhumidity_mean = mean([air_rhumidity_max, air_rhumidity_min])\n",
    "\n",
    "# STEP 3 - RADIATION\n",
    "# extraterrestrial_radiation (Ra)\n",
    "from datetime import datetime\n",
    "from math import radians\n",
    "# day_of_the_year = 154 # [day] between 1 - 365\n",
    "day_of_the_year = int(datetime(1990,9,3).strftime('%j')) # [day] between 1 - 365\n",
    "time_of_the_year = 80 #\n",
    "latitude = radians(-20) # [°] coordinates, location global position , neede in radians\n",
    "SOLAR_CONSTANT = 0.082 # [MJ / pow(m, 2) * min]\n",
    "\n",
    "albedo = 0.23 # "
   ]
  },
  {
   "cell_type": "code",
   "execution_count": 169,
   "metadata": {},
   "outputs": [],
   "source": [
    "# UTILS\n",
    "def celcius_to_kelvin(celcius):\n",
    "    return celcius + 273.16\n",
    "\n",
    "def kelvin_to_celcius(kelvin):\n",
    "    return kelvin - 273.16   \n",
    "\n",
    "def MJ_per_m2_day_to_mm_per_day(MJ):\n",
    "    return MJ * 0.408\n",
    "\n",
    "def mm_per_day_to_MJ_per_m2_day(mm):\n",
    "    return mm / 0.408"
   ]
  },
  {
   "cell_type": "code",
   "execution_count": 140,
   "metadata": {},
   "outputs": [
    {
     "data": {
      "text/plain": [
       "207.66407000788683"
      ]
     },
     "execution_count": 140,
     "metadata": {},
     "output_type": "execute_result"
    }
   ],
   "source": [
    "# INCORRECT\n",
    "# AREODYNAMIC RESISTANCE (ra) [s / m]\n",
    "        \t# ra = aerodynamic resistances [s / m]\n",
    "        \t# wind_measurement_height = height of wind measurements [m] meters\n",
    "        \t# RH_measurement_height = height of humidity measurements [m] meters\n",
    "        \t# d = zero plane displacement height [m] meters\n",
    "        \t# Zom = roughness length governing momentum transfer [m] meters\n",
    "        \t# Zoh = roughness length governing transfer of heat and vapour [m] meters\n",
    "        \t# k = von Karman's constant, 0.41 [None]\n",
    "        \t# Uz = wind speed at height z [m / s]\n",
    "from math import log, pow\n",
    "d = (2 / 3) * crop_height_ref\n",
    "Zom = 0.123 * crop_height_ref\n",
    "Zoh = 0.1 * Zom\n",
    "aerodynamic_resistance = (log((wind_measurement_height - d) / Zom) * log((RH_measurement_height - d) / Zoh)) / (pow(KARMAN_CONSTANT, 2) * wind_speed_measurement) # EQUATION 4\n",
    "aerodynamic_resistance"
   ]
  },
  {
   "cell_type": "code",
   "execution_count": 141,
   "metadata": {},
   "outputs": [
    {
     "data": {
      "text/plain": [
       "69.44444444444444"
      ]
     },
     "execution_count": 141,
     "metadata": {},
     "output_type": "execute_result"
    }
   ],
   "source": [
    "# (BULK) SURFACE RESISTANCE (rs)\n",
    "    # rs = (bulk) surface resistances [s pow(m, -1)]\n",
    "    # rl = bulk stomatal resistance of the well-illuminated leaf [s pow(m, -1)]\n",
    "    # LAI_active = active (sunlit) leaf area index [pow(m, 2) (leaf area) pow(m, -2) (soil surface)] meters\n",
    "        # The LAI values for various crops differ widely but values of 3-5 are common for many mature crops. For a given\n",
    "        # crop, green LAI changes throughout the season and normally reaches its maximum before or at flowering\n",
    "        # LAI further depends on the plant density and the crop variety.\n",
    "        # A general equation for LAIactive is: LAI_active = 0.5 LAI\n",
    "            # which takes into consideration the fact that generally only the upper half of dense clipped grass is actively\n",
    "            # contributing to the surface heat and vapour transfer. For clipped grass a general equation for LAI is:\n",
    "            # LAI = 24 * h\n",
    "            # where h is the crop height [m] meter\n",
    "            # The stomatal resistance, rl of a single leaf has a value of about 100 s m-1 under well-watered conditions\n",
    "LAI = 24 * crop_height_ref\n",
    "LAI_active = 0.5 * LAI\n",
    "surface_resistance = STOMATAL_RESISTANCE / LAI_active # EQUATION 5\n",
    "surface_resistance"
   ]
  },
  {
   "cell_type": "code",
   "execution_count": 142,
   "metadata": {},
   "outputs": [
    {
     "ename": "NameError",
     "evalue": "name 'net_radiation' is not defined",
     "output_type": "error",
     "traceback": [
      "\u001b[0;31m---------------------------------------------------------------------------\u001b[0m",
      "\u001b[0;31mNameError\u001b[0m                                 Traceback (most recent call last)",
      "\u001b[0;32m<ipython-input-142-90991bf99d05>\u001b[0m in \u001b[0;36m<module>\u001b[0;34m()\u001b[0m\n\u001b[1;32m     14\u001b[0m         \u001b[0;31m# Radiation is MJ / pow(m, 2) * day -> (converted to mm / day) = radiation / 2.45 = 0.408*radiation = [mm / day]\u001b[0m\u001b[0;34m\u001b[0m\u001b[0;34m\u001b[0m\u001b[0m\n\u001b[1;32m     15\u001b[0m         \u001b[0;31m# (∆ * (Rn - G) + Pa * Cp * ((es - ea) / ra)) / (∆ + γ * (1 + (rs / ra))) # EQUATION 3\u001b[0m\u001b[0;34m\u001b[0m\u001b[0;34m\u001b[0m\u001b[0m\n\u001b[0;32m---> 16\u001b[0;31m \u001b[0mevapotranspiration_ref\u001b[0m \u001b[0;34m=\u001b[0m \u001b[0;34m(\u001b[0m\u001b[0;36m0.408\u001b[0m \u001b[0;34m*\u001b[0m \u001b[0msaturation_vapour_pressure_slope\u001b[0m \u001b[0;34m*\u001b[0m \u001b[0;34m(\u001b[0m\u001b[0mnet_radiation\u001b[0m \u001b[0;34m-\u001b[0m \u001b[0msoil_heat_flux\u001b[0m\u001b[0;34m)\u001b[0m \u001b[0;34m+\u001b[0m \u001b[0mpsychrometric_constant\u001b[0m \u001b[0;34m*\u001b[0m \u001b[0;34m(\u001b[0m\u001b[0;36m900\u001b[0m \u001b[0;34m/\u001b[0m \u001b[0;34m(\u001b[0m\u001b[0mT\u001b[0m \u001b[0;34m+\u001b[0m \u001b[0;36m273\u001b[0m\u001b[0;34m)\u001b[0m\u001b[0;34m)\u001b[0m \u001b[0;34m*\u001b[0m \u001b[0mwind_speed_measurement\u001b[0m \u001b[0;34m*\u001b[0m \u001b[0;34m(\u001b[0m\u001b[0msaturation_vapour_pressure\u001b[0m \u001b[0;34m-\u001b[0m \u001b[0mactual_vapour_pressure\u001b[0m\u001b[0;34m)\u001b[0m\u001b[0;34m)\u001b[0m \u001b[0;34m/\u001b[0m \u001b[0;34m(\u001b[0m\u001b[0msaturation_vapour_pressure_slope\u001b[0m \u001b[0;34m+\u001b[0m \u001b[0mpsychrometric_constant\u001b[0m \u001b[0;34m*\u001b[0m \u001b[0;34m(\u001b[0m\u001b[0;36m1\u001b[0m \u001b[0;34m+\u001b[0m \u001b[0;36m0.34\u001b[0m \u001b[0;34m*\u001b[0m \u001b[0mwind_speed_measurement\u001b[0m\u001b[0;34m)\u001b[0m\u001b[0;34m)\u001b[0m \u001b[0;31m# EQUATION 6\u001b[0m\u001b[0;34m\u001b[0m\u001b[0m\n\u001b[0m\u001b[1;32m     17\u001b[0m \u001b[0mevapotranspiration_ref\u001b[0m\u001b[0;34m\u001b[0m\u001b[0m\n\u001b[1;32m     18\u001b[0m \u001b[0;31m# NOTE: calculating the psychrometric contants for norther hemisphere it should be positive and for sourtther hemisphere it should be negative\u001b[0m\u001b[0;34m\u001b[0m\u001b[0;34m\u001b[0m\u001b[0m\n",
      "\u001b[0;31mNameError\u001b[0m: name 'net_radiation' is not defined"
     ]
    }
   ],
   "source": [
    "# \"A hypothetical reference crop with an assumed crop height of 0.12 m, a fixed surface resistance of 70 s m-1 and an albedo of 0.23.\"\n",
    "#     used to arrrive at this particular formula ( considering wind and rh temp measurement at height of 2 meters and witha constant pressure etc.)\n",
    "# REFERENCE CROP EVAPOTRANSPIRATION [mm / day]\n",
    "    # ETo = reference evapotranspiration [mm / day]\n",
    "    # Rn = net radiation at the crop surface [MJ / (pow(m, 2) * day]\n",
    "    # G = soil heat flux density [MJ / (pow(m, 2) * day)]\n",
    "    # T = mean daily air temperature at 2 m height [°C]\n",
    "    # Uz = wind speed at z or 2 m height [m / s] # calculations should be done at 2 m height\n",
    "    # es = saturation vapour pressure [kPa]\n",
    "    # ea = actual vapour pressure [kPa]\n",
    "    # es - ea = saturation vapour pressure deficit [kPa]\n",
    "    # ∆ = slope vapour pressure curve [kPa / °C]\n",
    "    # γ = psychrometric constant [kPa / °C]\n",
    "        # Radiation is MJ / pow(m, 2) * day -> (converted to mm / day) = radiation / 2.45 = 0.408*radiation = [mm / day]\n",
    "        # (∆ * (Rn - G) + Pa * Cp * ((es - ea) / ra)) / (∆ + γ * (1 + (rs / ra))) # EQUATION 3\n",
    "evapotranspiration_ref = (0.408 * saturation_vapour_pressure_slope * (net_radiation - soil_heat_flux) + psychrometric_constant * (900 / (T + 273)) * wind_speed_measurement * (saturation_vapour_pressure - actual_vapour_pressure)) / (saturation_vapour_pressure_slope + psychrometric_constant * (1 + 0.34 * wind_speed_measurement)) # EQUATION 6\n",
    "evapotranspiration_ref\n",
    "# NOTE: calculating the psychrometric contants for norther hemisphere it should be positive and for sourtther hemisphere it should be negative\n",
    "# http://www.fao.org/docrep/X0490E/x0490e06.htm#TopOfPage"
   ]
  },
  {
   "cell_type": "code",
   "execution_count": 143,
   "metadata": {},
   "outputs": [],
   "source": [
    "# STEP 2\n",
    "# required:\n",
    "#     ALTITUDE abovve sea level\n",
    "#     LATITUDE location\n",
    "#     TEMPERATURE average, daily min and max temperature\n",
    "#         using mean air temperature instead of maximum and minimum air temperatures yields a lower saturation vapour pressure es, and hence a lower vapour pressure difference (es - ea), and a lower reference evapotranspiration estimate.\n",
    "#     HUMIDITYY with psychomretric or dewpoint temp or min and max relative humidity\n",
    "#     RADIATION the average daily net rdiation[MJ / m2 * day]\n",
    "#     WIND SPEED nat 2 meter above soil, if at different height a modification most be calculated\n",
    "#     "
   ]
  },
  {
   "cell_type": "code",
   "execution_count": 144,
   "metadata": {},
   "outputs": [
    {
     "data": {
      "text/plain": [
       "81.75579640764421"
      ]
     },
     "execution_count": 144,
     "metadata": {},
     "output_type": "execute_result"
    }
   ],
   "source": [
    "# ATMOSPHERIC PRESSURE [kPa]\n",
    "    # z = elevation above sea level [m] meters\n",
    "average_atmospheric_pressure = 101.3 * pow(((293 - 0.0065 * elevation_above_sea_level) / 293), 5.26) # EQUATION 7\n",
    "average_atmospheric_pressure"
   ]
  },
  {
   "cell_type": "code",
   "execution_count": 145,
   "metadata": {},
   "outputs": [
    {
     "data": {
      "text/plain": [
       "0.054346493707555336"
      ]
     },
     "execution_count": 145,
     "metadata": {},
     "output_type": "execute_result"
    }
   ],
   "source": [
    "# PSYCHROMETRICS CONSTANT [kPa / °C]\n",
    "    # γ = psychrometric constant [kPa / °C]\n",
    "     # λ = latent heat of vaporization, 2.45 [MJ / kg]\n",
    "     # Cp = specific heat at constant pressure, 1.013 10-3 [MJ / kg * °C]\n",
    "     # ε = ratio molecular weight of water vapour/dry air = 0.622\n",
    "     # average_atmospheric_pressure = calculated befiore [kPa]\n",
    "psychrometric_constant = (SPECIFIC_AIR_HEAT_AT_CONSTANT_PRESSURE * average_atmospheric_pressure) / (RATIO_MOLECULAR_WEIGHT_WATER_VAPOUR_AND_DRY_AIR * VAPORIZATION_LATENT_HEAT)  # EQUATION 8\n",
    "# psychrometric_constant_two = 0.665e-3 * average_atmospheric_pressure # EQUATION 8 (the same as previous but accuracy is lost with generalization of decimals)\n",
    "psychrometric_constant # [kPa / °C]"
   ]
  },
  {
   "cell_type": "code",
   "execution_count": 146,
   "metadata": {},
   "outputs": [
    {
     "data": {
      "text/plain": [
       "21.5"
      ]
     },
     "execution_count": 146,
     "metadata": {},
     "output_type": "execute_result"
    }
   ],
   "source": [
    "# AIR TEMPERATURE [°C]\n",
    "    # mean temperature is the average of the max and min temnp throghout a 24h period - when calculating it might be a list mof average max and min then to take the mean since is a range of 10 days or longer\n",
    "\t# temperature in KELVIN\n",
    "air_temp_mean = mean([air_temp_max, air_temp_min]) # EQUATION 9\n",
    "air_temp_mean_in_kelvin = celcius_to_kelvin(air_temp_mean)\n",
    "air_temp_mean_in_kelvin\n",
    "air_temp_mean"
   ]
  },
  {
   "cell_type": "code",
   "execution_count": 147,
   "metadata": {},
   "outputs": [],
   "source": [
    "# AIR HUMIDITY\n",
    "\n",
    "actual_vapour_pressure = 0"
   ]
  },
  {
   "cell_type": "code",
   "execution_count": 148,
   "metadata": {},
   "outputs": [
    {
     "data": {
      "text/plain": [
       "2.6158834600836665"
      ]
     },
     "execution_count": 148,
     "metadata": {},
     "output_type": "execute_result"
    }
   ],
   "source": [
    "# MEAN SATURATION VAPOUR PRESSURE (es) [kPa]\n",
    "\t# As saturation vapour pressure is related to air temperature, it can be calculated from the air temperature. The relationship is expressed by\n",
    "\t# eo(T) saturation vapour pressure at the air temperature T [kPa]\n",
    "\t# air_temp = air temperature [°C]\n",
    "\t# exp[..] 2.7183 (base of natural logarithm) raised to the power [..].\n",
    "# //TODO check if eo formula is the right way to calculate this formula\n",
    "from math import expm1, exp\n",
    "eo_temp_max = 0.6108 * exp((17.27 * air_temp_max) / (air_temp_max + 237.3)) # EQUATION 11 # function based on temperature\n",
    "eo_temp_min = 0.6108 * exp((17.27 * air_temp_min) / (air_temp_min + 237.3)) # EQUATION 11 # function based on temperature\n",
    "# eo_temp_mean = 0.6108 * exp((17.27 * air_temp_mean_in_celcius) / (air_temp_mean_in_celcius + 237.3)) # EQUATION 11 # function based on temperature\n",
    "saturation_vapour_pressure = (eo_temp_max + eo_temp_min) / 2 # EQUATION 12\n",
    "# saturation_vapour_pressure_temp_mean = (eo_temp_mean + eo_temp_mean) / 2 # EQUATION 12\n",
    "saturation_vapour_pressure"
   ]
  },
  {
   "cell_type": "code",
   "execution_count": 149,
   "metadata": {},
   "outputs": [
    {
     "data": {
      "text/plain": [
       "0.15690345906391895"
      ]
     },
     "execution_count": 149,
     "metadata": {},
     "output_type": "execute_result"
    }
   ],
   "source": [
    "# SLOPE OF SATURATION VAPOUR PRESSURE CURVE (∆) [None]\n",
    "    # For the calculation of evapotranspiration, the slope of the relationship between saturation vapour pressure and\n",
    "    # temperature, ∆, is required. The slope of the curve (Figure 11) at a given temperature is given by.\n",
    "    # ∆ = slope of saturation vapour pressure curve at air temperature T [kPa / °C],\n",
    "    # air_temp = air temperature [°C],\n",
    "    # exp[..] 2.7183 (base of natural logarithm) raised to the power [..].\n",
    "    # Values of slope ∆ for different air temperatures are given in Annex 2 (Table 2.4). In the FAO Penman-Monteith\n",
    "    # equation, where ∆ occurs in the numerator and denominator, the slope of the vapour pressure curve is\n",
    "    # calculated using mean air temperature.\n",
    "saturation_vapour_pressure_slope = (4098 * 0.6108 * exp((17.27 * air_temp_mean) / (air_temp_mean + 237.3))) / (pow((air_temp_mean + 237.3), 2)) # EQUATION 13\n",
    "saturation_vapour_pressure_slope"
   ]
  },
  {
   "cell_type": "code",
   "execution_count": 150,
   "metadata": {},
   "outputs": [
    {
     "data": {
      "text/plain": [
       "1.7015355568176478"
      ]
     },
     "execution_count": 150,
     "metadata": {},
     "output_type": "execute_result"
    }
   ],
   "source": [
    "# this calculation has many errors, but to measure with more reliability, the dewpoint temperature is needed or the dry bulb temp andd wet bulb temp thta is measuremen with another sensor.\n",
    "# ACTUAL VAPOUR PRESSURE (ea) DERIVED FROM RELATIVE HUMIDITY DATA [kPa]\n",
    "    # ea = actual vapour pressure [kPa]\n",
    "    # eo_T_min = saturation vapour pressure at daily minimum temperature [kPa]\n",
    "    # eo_T_max = saturation vapour pressure at daily maximum temperature [kPa]\n",
    "    # RH_max = maximum relative humidity [%]\n",
    "    # RH_min = minimum relative humidity [%]\n",
    "\n",
    "# --for RH_max and RH_min\n",
    "actual_vapour_pressure_rh = (eo_temp_min * (air_rhumidity_max / 100) + eo_temp_max * (air_rhumidity_min / 100)) / 2 # EQUATION 17\n",
    "actual_vapour_pressure_rh"
   ]
  },
  {
   "cell_type": "code",
   "execution_count": 151,
   "metadata": {},
   "outputs": [
    {
     "data": {
      "text/plain": [
       "1.7788007528568932"
      ]
     },
     "execution_count": 151,
     "metadata": {},
     "output_type": "execute_result"
    }
   ],
   "source": [
    "# --for RH_mean -- In the absence of RH max and RH min , another equation can be used to estimate e a\n",
    "    # RH_mean = the mean relative humidity, defined as the average between RH max and RH min.\n",
    "\n",
    "actual_vapour_pressure_rh_mean = (air_rhumidity_mean / 100) * ((eo_temp_max + eo_temp_min) / 2) # EQUATION 19\n",
    "actual_vapour_pressure_rh_mean"
   ]
  },
  {
   "cell_type": "code",
   "execution_count": 152,
   "metadata": {},
   "outputs": [
    {
     "data": {
      "text/plain": [
       "0.9143479032660187"
      ]
     },
     "execution_count": 152,
     "metadata": {},
     "output_type": "execute_result"
    }
   ],
   "source": [
    "# VAPOUR PRESSURE DEFICIT (es - ea) [kPa]\n",
    "    # The vapour pressure deficit is the difference between the saturation (es) and actual vapour pressure (ea) for a\n",
    "    # given time period. For time periods such as a week, ten days or a month e s is computed from Equation 12 using\n",
    "    # the T max and T min averaged over the time period and similarly the e a is computed with one of the equations 4 to\n",
    "    # 19, using average measurements over the period.\n",
    "vapour_pressure_deficit = saturation_vapour_pressure - actual_vapour_pressure_rh\n",
    "vapour_pressure_deficit"
   ]
  },
  {
   "cell_type": "code",
   "execution_count": 153,
   "metadata": {},
   "outputs": [],
   "source": [
    "# 3 STEP\n",
    "#     "
   ]
  },
  {
   "cell_type": "code",
   "execution_count": 173,
   "metadata": {},
   "outputs": [
    {
     "data": {
      "text/plain": [
       "32.193995875112726"
      ]
     },
     "execution_count": 173,
     "metadata": {},
     "output_type": "execute_result"
    }
   ],
   "source": [
    "# EXTRATERRESTRIAL RADIATION (Ra) [MJ / pow(m, 2) * day]\n",
    "from math import pi, sin, cos, tan, acos\n",
    "    # day_of_the_year = is the number of the day in the year between 1 (1 January) and 365 or 366 (31 December)\n",
    "inverse_rdistance_earth_sun = 1 + 0.033 * cos(((2 * pi) / 365) * day_of_the_year) # EQUATION 23\n",
    "solar_declination = 0.409 * sin(((2 * pi) / 365) * day_of_the_year - 1.39) # EQUATION 24\n",
    "sunset_hour_angle = acos(-tan(latitude) * tan(solar_declination)) # EQUATION 25\n",
    "    # Ra = extraterrestrial radiation [MJ / m * day]\n",
    "    # dr = inverse relative distance Earth-Sun (Equation 23)\n",
    "    # φ = latitude [rad] (Equation 22)\n",
    "    # Gsc = solar constant = 0.0820 MJ m min\n",
    "    # ωs = sunset hour angle (Equation 25 or 26) [rad]\n",
    "    # δ = solar decimation (Equation 24) [rad]\n",
    "extraterrestrial_radiation = ((24 * 60) / pi) * SOLAR_CONSTANT * inverse_rdistance_earth_sun * (sunset_hour_angle * sin(latitude) * sin(solar_declination) + cos(latitude) * cos(solar_declination) * sin(sunset_hour_angle)) # EUQATION 21\n",
    "extraterrestrial_radiation_mm = MJ_per_m2_day_to_mm_per_day(extraterrestrial_radiation)\n",
    "extraterrestrial_radiation"
   ]
  },
  {
   "cell_type": "code",
   "execution_count": 171,
   "metadata": {},
   "outputs": [
    {
     "data": {
      "text/plain": [
       "13.13515031704599"
      ]
     },
     "execution_count": 171,
     "metadata": {},
     "output_type": "execute_result"
    }
   ],
   "source": [
    "extraterrestrial_radiation_mm"
   ]
  },
  {
   "cell_type": "code",
   "execution_count": 164,
   "metadata": {},
   "outputs": [
    {
     "ename": "SyntaxError",
     "evalue": "invalid syntax (<ipython-input-164-7148a9a0d427>, line 10)",
     "output_type": "error",
     "traceback": [
      "\u001b[0;36m  File \u001b[0;32m\"<ipython-input-164-7148a9a0d427>\"\u001b[0;36m, line \u001b[0;32m10\u001b[0m\n\u001b[0;31m    Sc = 0.1645 * sin(2 b) - 0.1255 * cos(b) - 0.025 * sin(b) # EQUATION 32\u001b[0m\n\u001b[0m                        ^\u001b[0m\n\u001b[0;31mSyntaxError\u001b[0m\u001b[0;31m:\u001b[0m invalid syntax\n"
     ]
    }
   ],
   "source": [
    "# EXTRATERRESTRIAL RADIATION FOR HOURLY OR SHORTER PERIODS (Ra)\n",
    "    # t = standard clock time at the midpoint of the period [hour]. For example for a period between 14.00 and 15.00 hours, t = 14.5,\n",
    "    # Lz = longitude of the centre of the local time zone [degrees west of Greenwich]. For example, Lz = 75, 90, 105 and 120° for the Eastern, Central, Rocky Mountain and Pacific time zones (United States) and Lz = 0° for Greenwich, 330° for Cairo (Egypt), and 255° for Bangkok (Thailand),\n",
    "    # Lm = longitude of the measurement site [degrees west of Greenwich],\n",
    "    # Sc = seasonal correction for solar time [hour].\n",
    "    # Of course, ω < -ω s or ω > ω s from Equation 31 indicates that the sun is below the horizon so that, by definition, Ra is zero.\n",
    "ω = (pi / 12) * ((t + 0.066667 * (Lz - Lm) + Sc) - 12) # EQUATION 31\n",
    "    # day_of_the_year = is the number of the day in the year between 1 (1 January) and 365 or 366 (31 December)\n",
    "b = (2 * pi * (day_of_the_year - 81)) / 364 # EQUATION 33\n",
    "Sc = 0.1645 * sin(2b) - 0.1255 * cos(b) - 0.025 * sin(b) # EQUATION 32\n",
    "    # ω = solar time angle at midpoint of hourly or shorter period [rad],\n",
    "    # t1 = length of the calculation period [hour]: i.e., 1 for hourly period or 0.5 for a 30-minute period.\n",
    "ωs1 = ω - ((pi * t1) / 24) # EUQATION 29\n",
    "ωs2 = ω + ((pi * t1) / 24) # EUQATION 30\n",
    "    # Ra = extraterrestrial radiation in the hour (or shorter) period [MJ / pow(m, 2) * hour]\n",
    "    # Gsc = solar constant = 0.0820 MJ / pow(m, 2) * min\n",
    "    # dr = inverse relative distance Earth-Sun (Equation 23)\n",
    "    # δ = solar declination [rad] (Equation 24)\n",
    "    # φ = latitude [rad] (Equation 22)\n",
    "    # ωs1 = solar time angle at beginning of period [rad] (Equation 29)\n",
    "    # ωs2 = solar time angle at end of period [rad] (Equation 30)\n",
    "Ra = ((12 * 60) / pi) * Gsc * dr * ((ωs2 - ωs1) * sin(φ) * cos(δ) + cos(φ) * cos(δ) * (sin(ωs2) - sin(ωs1)) ) # EUQATION 28"
   ]
  },
  {
   "cell_type": "code",
   "execution_count": 166,
   "metadata": {},
   "outputs": [
    {
     "data": {
      "text/plain": [
       "11.66559194558473"
      ]
     },
     "execution_count": 166,
     "metadata": {},
     "output_type": "execute_result"
    }
   ],
   "source": [
    "# DAYLIGHT HOURS (N)\n",
    "    # ωs = the sunset hour angle in radians given by Equation 25 or 26. Mean values for N\n",
    "N = (24 / pi) * sunset_hour_angle # EQUATION 34\n",
    "N"
   ]
  },
  {
   "cell_type": "code",
   "execution_count": null,
   "metadata": {},
   "outputs": [],
   "source": [
    "# SOLAR RADIATION (Rs) [MJ / m * day]\n",
    "    # If the solar radiation, Rs, is not measured, it can be calculated with the Angstrom formula which relates solar\n",
    "    # radiation to extraterrestrial radiation and relative sunshine duration:\n",
    "\n",
    "    # Rs = solar or shortwave radiation [MJ / m * day]\n",
    "    # n = actual duration of sunshine [hour]\n",
    "    # N = maximum possible duration of sunshine or daylight hours [hour]\n",
    "    # n/N = relative sunshine duration [-]\n",
    "    # Ra = extraterrestrial radiation [MJ / m * day]\n",
    "    # as = regression constant, expressing the fraction of extraterrestrial radiation reaching the earth on overcast days (n = 0),\n",
    "    # as + bs = fraction of extraterrestrial radiation reaching the earth on clear days (n = N).\n",
    "    # Rs is expressed in the above equation in [MJ / m * day]. The corresponding equivalent evaporation in [mm / day] is\n",
    "    # obtained by multiplying Rs by 0.408 (Equation 20). Depending on atmospheric conditions (humidity, dust) and\n",
    "    # solar declination (latitude and month), the Angstrom values a s and b s will vary. Where no actual solar radiation\n",
    "    # data are available and no calibration has been carried out for improved as and bs parameters, the values as = 0.25 and bs = 0.50 are recommended.\n",
    "    \n",
    "    # RULE OF THUMBS\n",
    "    # for cloudless days Rs circa 75% of Ra\n",
    "    # for cloudy days    Rs circa 25% of Ra\n",
    "    \n",
    "global_radiation = (as + bs * (n / N)) * extraterrestrial_radiation # EQUATION 35"
   ]
  },
  {
   "cell_type": "code",
   "execution_count": null,
   "metadata": {},
   "outputs": [],
   "source": []
  },
  {
   "cell_type": "code",
   "execution_count": null,
   "metadata": {},
   "outputs": [],
   "source": []
  },
  {
   "cell_type": "code",
   "execution_count": null,
   "metadata": {},
   "outputs": [],
   "source": []
  },
  {
   "cell_type": "code",
   "execution_count": null,
   "metadata": {},
   "outputs": [],
   "source": []
  },
  {
   "cell_type": "code",
   "execution_count": null,
   "metadata": {},
   "outputs": [],
   "source": []
  },
  {
   "cell_type": "code",
   "execution_count": null,
   "metadata": {},
   "outputs": [],
   "source": []
  }
 ],
 "metadata": {
  "kernelspec": {
   "display_name": "Python 3",
   "language": "python",
   "name": "python3"
  },
  "language_info": {
   "codemirror_mode": {
    "name": "ipython",
    "version": 3
   },
   "file_extension": ".py",
   "mimetype": "text/x-python",
   "name": "python",
   "nbconvert_exporter": "python",
   "pygments_lexer": "ipython3",
   "version": "3.6.5"
  }
 },
 "nbformat": 4,
 "nbformat_minor": 2
}
