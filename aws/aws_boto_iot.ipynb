{
 "cells": [
  {
   "cell_type": "code",
   "execution_count": 17,
   "metadata": {},
   "outputs": [],
   "source": [
    "import boto3\n",
    "# from botocore.exceptions import ResourceAlreadyExistsException\n",
    "import botocore.exceptions\n",
    "import json"
   ]
  },
  {
   "cell_type": "code",
   "execution_count": 18,
   "metadata": {},
   "outputs": [],
   "source": [
    "session = boto3.Session(profile_name = 'agrimoduleApp')"
   ]
  },
  {
   "cell_type": "code",
   "execution_count": 19,
   "metadata": {},
   "outputs": [],
   "source": [
    "iot = session.client('iot')"
   ]
  },
  {
   "cell_type": "markdown",
   "metadata": {},
   "source": [
    "## Create TYPES of THINGS"
   ]
  },
  {
   "cell_type": "markdown",
   "metadata": {},
   "source": [
    "#### AGRIMODULE"
   ]
  },
  {
   "cell_type": "code",
   "execution_count": 20,
   "metadata": {
    "scrolled": true
   },
   "outputs": [
    {
     "name": "stdout",
     "output_type": "stream",
     "text": [
      "{'ResponseMetadata': {'RequestId': '1647f2f0-b056-11e8-ad1a-89d71bab478f', 'HTTPStatusCode': 200, 'HTTPHeaders': {'content-type': 'application/json', 'content-length': '160', 'connection': 'keep-alive', 'date': 'Tue, 04 Sep 2018 15:20:42 GMT', 'x-amzn-requestid': '1647f2f0-b056-11e8-ad1a-89d71bab478f', 'access-control-allow-origin': '*', 'x-amz-apigw-id': 'Ms5fmEpdliAFdnA=', 'x-amzn-trace-id': 'Root=1-5b8ea2ca-e221842acfb18cac8c93db38', 'x-cache': 'Miss from cloudfront', 'via': '1.1 bb93dfaee440e32ac88831363641e2c2.cloudfront.net (CloudFront)', 'x-amz-cf-id': 'zk02fCkyf4aKJ_rgXmiICYGmxKSj4-Mknj_Oa5fmpk0hnaL4_9R6eQ=='}, 'RetryAttempts': 0}, 'thingTypeName': 'agrimodule', 'thingTypeArn': 'arn:aws:iot:eu-central-1:532242313684:thingtype/agrimodule', 'thingTypeId': '0456bd81-1575-411a-a43c-f9bcd26e199a'}\n"
     ]
    }
   ],
   "source": [
    "try:\n",
    "    agrimodule_type = iot.create_thing_type(\n",
    "        thingTypeName='agrimodule',\n",
    "        thingTypeProperties={\n",
    "            'thingTypeDescription': 'agrimodule works as the gateway/hub for all other things (agrisensors, agripumps) communication to AWS IoT',\n",
    "            'searchableAttributes': ['agrimodule','agrimodule-type']\n",
    "        }\n",
    "    )\n",
    "except iot.exceptions.ResourceAlreadyExistsException as e:\n",
    "    print(e)\n",
    "finally:\n",
    "    print(agrimodule_type)"
   ]
  },
  {
   "cell_type": "markdown",
   "metadata": {},
   "source": [
    "#### AGRISENSOR"
   ]
  },
  {
   "cell_type": "code",
   "execution_count": 21,
   "metadata": {},
   "outputs": [
    {
     "name": "stdout",
     "output_type": "stream",
     "text": [
      "{'ResponseMetadata': {'RequestId': '1666508f-b056-11e8-b5a5-03ace7b11127', 'HTTPStatusCode': 200, 'HTTPHeaders': {'content-type': 'application/json', 'content-length': '160', 'connection': 'keep-alive', 'date': 'Tue, 04 Sep 2018 15:20:42 GMT', 'x-amzn-requestid': '1666508f-b056-11e8-b5a5-03ace7b11127', 'access-control-allow-origin': '*', 'x-amz-apigw-id': 'Ms5foEo2FiAFfmA=', 'x-amzn-trace-id': 'Root=1-5b8ea2ca-9cef45c7451628b4f1b47055', 'x-cache': 'Miss from cloudfront', 'via': '1.1 bb93dfaee440e32ac88831363641e2c2.cloudfront.net (CloudFront)', 'x-amz-cf-id': 'AM1lEmiV0NtKoP0lhKaATYR6y3ps6rZRYNuK-opW3avQXY38DdOk3Q=='}, 'RetryAttempts': 0}, 'thingTypeName': 'agrisensor', 'thingTypeArn': 'arn:aws:iot:eu-central-1:532242313684:thingtype/agrisensor', 'thingTypeId': '7c15ef06-2ea1-4661-a4be-fc8a4be55ccb'}\n"
     ]
    }
   ],
   "source": [
    "try: \n",
    "    agrisensor_type = iot.create_thing_type(\n",
    "        thingTypeName='agrisensor',\n",
    "        thingTypeProperties={\n",
    "            'thingTypeDescription': 'agrisensor works as a sensor communication to the gateway/agrimodule to send the data to the AWS IoT',\n",
    "            'searchableAttributes': ['agrisensor','agrisensor-type']\n",
    "        }\n",
    "    )\n",
    "except iot.exceptions.ResourceAlreadyExistsException as e:\n",
    "    print(e)\n",
    "finally:\n",
    "    print(agrisensor_type)"
   ]
  },
  {
   "cell_type": "markdown",
   "metadata": {},
   "source": [
    "#### AGRIPUMP"
   ]
  },
  {
   "cell_type": "code",
   "execution_count": 22,
   "metadata": {},
   "outputs": [
    {
     "name": "stdout",
     "output_type": "stream",
     "text": [
      "An error occurred (ResourceAlreadyExistsException) when calling the CreateThingType operation: Thing Type agripump already exists in current account with different properties\n"
     ]
    },
    {
     "ename": "NameError",
     "evalue": "name 'agripump_type' is not defined",
     "output_type": "error",
     "traceback": [
      "\u001b[0;31m---------------------------------------------------------------------------\u001b[0m",
      "\u001b[0;31mNameError\u001b[0m                                 Traceback (most recent call last)",
      "\u001b[0;32m<ipython-input-22-423fd1c63e7e>\u001b[0m in \u001b[0;36m<module>\u001b[0;34m()\u001b[0m\n\u001b[1;32m     10\u001b[0m     \u001b[0mprint\u001b[0m\u001b[0;34m(\u001b[0m\u001b[0me\u001b[0m\u001b[0;34m)\u001b[0m\u001b[0;34m\u001b[0m\u001b[0m\n\u001b[1;32m     11\u001b[0m \u001b[0;32mfinally\u001b[0m\u001b[0;34m:\u001b[0m\u001b[0;34m\u001b[0m\u001b[0m\n\u001b[0;32m---> 12\u001b[0;31m     \u001b[0mprint\u001b[0m\u001b[0;34m(\u001b[0m\u001b[0magripump_type\u001b[0m\u001b[0;34m)\u001b[0m\u001b[0;34m\u001b[0m\u001b[0m\n\u001b[0m",
      "\u001b[0;31mNameError\u001b[0m: name 'agripump_type' is not defined"
     ]
    }
   ],
   "source": [
    "try:\n",
    "    agripump_type = iot.create_thing_type(\n",
    "        thingTypeName='agripump',\n",
    "        thingTypeProperties={\n",
    "            'thingTypeDescription': 'agripump works as an remote switch to control the irrigation system and communicates to the gateway/agrimodule to receive commands or send the data to the AWS IoT',\n",
    "            'searchableAttributes': ['agripump','agripump-type']\n",
    "        }\n",
    "    )\n",
    "except iot.exceptions.ResourceAlreadyExistsException as e:\n",
    "    print(e)\n",
    "finally:\n",
    "    print(agripump_type)"
   ]
  },
  {
   "cell_type": "markdown",
   "metadata": {},
   "source": [
    "## Create THINGS"
   ]
  },
  {
   "cell_type": "code",
   "execution_count": 23,
   "metadata": {},
   "outputs": [
    {
     "name": "stdout",
     "output_type": "stream",
     "text": [
      "This Resource Already Exist!\n",
      "----------------------------\n"
     ]
    },
    {
     "ename": "NameError",
     "evalue": "name 'thing_agrimodule' is not defined",
     "output_type": "error",
     "traceback": [
      "\u001b[0;31m---------------------------------------------------------------------------\u001b[0m",
      "\u001b[0;31mNameError\u001b[0m                                 Traceback (most recent call last)",
      "\u001b[0;32m<ipython-input-23-4788b92bc279>\u001b[0m in \u001b[0;36m<module>\u001b[0;34m()\u001b[0m\n\u001b[1;32m     14\u001b[0m \u001b[0;31m#     print(e)\u001b[0m\u001b[0;34m\u001b[0m\u001b[0;34m\u001b[0m\u001b[0m\n\u001b[1;32m     15\u001b[0m \u001b[0;32mfinally\u001b[0m\u001b[0;34m:\u001b[0m\u001b[0;34m\u001b[0m\u001b[0m\n\u001b[0;32m---> 16\u001b[0;31m     \u001b[0mprint\u001b[0m\u001b[0;34m(\u001b[0m\u001b[0mthing_agrimodule\u001b[0m\u001b[0;34m)\u001b[0m\u001b[0;34m\u001b[0m\u001b[0m\n\u001b[0m",
      "\u001b[0;31mNameError\u001b[0m: name 'thing_agrimodule' is not defined"
     ]
    }
   ],
   "source": [
    "try:\n",
    "    thing_agrimodule = iot.create_thing(\n",
    "        thingName='agrimodule-gw-1',\n",
    "        thingTypeName='agrisensor',\n",
    "        attributePayload={\n",
    "            'attributes': {\n",
    "                'gateway': 'agrimodule'\n",
    "            },\n",
    "        }\n",
    "    )\n",
    "except iot.exceptions.ResourceAlreadyExistsException as e:\n",
    "    print('This Resource Already Exist!')\n",
    "    print('----------------------------')\n",
    "#     print(e)\n",
    "finally:\n",
    "    print(thing_agrimodule)"
   ]
  },
  {
   "cell_type": "markdown",
   "metadata": {},
   "source": [
    "## Create Policy"
   ]
  },
  {
   "cell_type": "code",
   "execution_count": 24,
   "metadata": {},
   "outputs": [],
   "source": [
    "policyDocument_one = {\n",
    "  \"Version\": \"2012-10-17\",\n",
    "  \"Statement\": [\n",
    "    {\n",
    "      \"Effect\": \"Allow\",\n",
    "      \"Action\": [\n",
    "        \"iot:Publish\",\n",
    "        \"iot:Receive\"\n",
    "      ],\n",
    "      \"Resource\": [\n",
    "        \"arn:aws:iot:eu-central-1:532242313684:topic/sdk/test/java\",\n",
    "        \"arn:aws:iot:eu-central-1:532242313684:topic/sdk/test/Python\",\n",
    "        \"arn:aws:iot:eu-central-1:532242313684:topic/topic_1\",\n",
    "        \"arn:aws:iot:eu-central-1:532242313684:topic/topic_2\"\n",
    "      ]\n",
    "    },\n",
    "    {\n",
    "      \"Effect\": \"Allow\",\n",
    "      \"Action\": [\n",
    "        \"iot:Subscribe\"\n",
    "      ],\n",
    "      \"Resource\": [\n",
    "        \"arn:aws:iot:eu-central-1:532242313684:topicfilter/sdk/test/java\",\n",
    "        \"arn:aws:iot:eu-central-1:532242313684:topicfilter/sdk/test/Python\",\n",
    "        \"arn:aws:iot:eu-central-1:532242313684:topicfilter/topic_1\",\n",
    "        \"arn:aws:iot:eu-central-1:532242313684:topicfilter/topic_2\"\n",
    "      ]\n",
    "    },\n",
    "    {\n",
    "      \"Effect\": \"Allow\",\n",
    "      \"Action\": [\n",
    "        \"iot:Connect\"\n",
    "      ],\n",
    "      \"Resource\": [\n",
    "        \"arn:aws:iot:eu-central-1:532242313684:client/sdk-java\",\n",
    "        \"arn:aws:iot:eu-central-1:532242313684:client/basicPubSub\",\n",
    "        \"arn:aws:iot:eu-central-1:532242313684:client/sdk-nodejs-*\"\n",
    "      ]\n",
    "    }\n",
    "  ]\n",
    "}"
   ]
  },
  {
   "cell_type": "code",
   "execution_count": 25,
   "metadata": {},
   "outputs": [],
   "source": [
    "policyDocument_two = {\n",
    "  \"Version\": \"2012-10-17\",\n",
    "  \"Statement\": [\n",
    "    {\n",
    "      \"Effect\": \"Allow\",\n",
    "      \"Action\": \"iot:*\",\n",
    "      \"Resource\": \"*\"\n",
    "    }\n",
    "  ]\n",
    "}"
   ]
  },
  {
   "cell_type": "code",
   "execution_count": 26,
   "metadata": {},
   "outputs": [
    {
     "name": "stdout",
     "output_type": "stream",
     "text": [
      "{'ResponseMetadata': {'RequestId': '1729a0b6-b056-11e8-875e-279f347f5c06', 'HTTPStatusCode': 200, 'HTTPHeaders': {'content-type': 'application/json', 'content-length': '269', 'connection': 'keep-alive', 'date': 'Tue, 04 Sep 2018 15:20:43 GMT', 'x-amzn-requestid': '1729a0b6-b056-11e8-875e-279f347f5c06', 'access-control-allow-origin': '*', 'x-amz-apigw-id': 'Ms5f1GLkliAFqAQ=', 'x-amzn-trace-id': 'Root=1-5b8ea2cb-5f1a08b8667fa75c61954e3c', 'x-cache': 'Miss from cloudfront', 'via': '1.1 bb93dfaee440e32ac88831363641e2c2.cloudfront.net (CloudFront)', 'x-amz-cf-id': 'QSWu5zNQTws1EGoUeQop6x4yZreQZ0_qHuURJcVV5bDWqdHcDASnqQ=='}, 'RetryAttempts': 0}, 'policyName': 'agrimodule-policy', 'policyArn': 'arn:aws:iot:eu-central-1:532242313684:policy/agrimodule-policy', 'policyDocument': '{\"Version\": \"2012-10-17\", \"Statement\": [{\"Effect\": \"Allow\", \"Action\": \"iot:*\", \"Resource\": \"*\"}]}', 'policyVersionId': '1'}\n"
     ]
    }
   ],
   "source": [
    "try:\n",
    "    thing_policy = iot.create_policy(\n",
    "        policyName ='agrimodule-policy',\n",
    "        policyDocument = json.dumps(policyDocument)\n",
    "    )\n",
    "except iot.exceptions.ResourceAlreadyExistsException as e:\n",
    "    print('This Resource Already Exist!')\n",
    "    print('----------------------------')\n",
    "#     print(e)\n",
    "finally:\n",
    "    print(thing_policy)"
   ]
  },
  {
   "cell_type": "code",
   "execution_count": null,
   "metadata": {},
   "outputs": [],
   "source": []
  },
  {
   "cell_type": "code",
   "execution_count": null,
   "metadata": {},
   "outputs": [],
   "source": [
    "try:\n",
    "    thing_certificate = iot.create_certificate_from_csr(\n",
    "        certificateSigningRequest='string',\n",
    "        setAsActive=True|False\n",
    "    )\n",
    "except iot.exceptions.ResourceAlreadyExistsException as e:\n",
    "    print('This Resource Already Exist!')\n",
    "    print('----------------------------')\n",
    "#     print(e)\n",
    "finally:\n",
    "    print(thing_policy)"
   ]
  },
  {
   "cell_type": "code",
   "execution_count": null,
   "metadata": {},
   "outputs": [],
   "source": []
  },
  {
   "cell_type": "code",
   "execution_count": null,
   "metadata": {},
   "outputs": [],
   "source": []
  },
  {
   "cell_type": "code",
   "execution_count": 41,
   "metadata": {},
   "outputs": [],
   "source": [
    "certId = '1adc399815702d350dbc47cdad60adf0b0c7e5404955fbeec3e989482b822284'"
   ]
  },
  {
   "cell_type": "code",
   "execution_count": 42,
   "metadata": {},
   "outputs": [
    {
     "ename": "TransferAlreadyCompletedException",
     "evalue": "An error occurred (TransferAlreadyCompletedException) when calling the AcceptCertificateTransfer operation: Transfer already completed for certificateId 1adc399815702d350dbc47cdad60adf0b0c7e5404955fbeec3e989482b822284",
     "output_type": "error",
     "traceback": [
      "\u001b[0;31m---------------------------------------------------------------------------\u001b[0m",
      "\u001b[0;31mTransferAlreadyCompletedException\u001b[0m         Traceback (most recent call last)",
      "\u001b[0;32m<ipython-input-42-150327e31991>\u001b[0m in \u001b[0;36m<module>\u001b[0;34m()\u001b[0m\n\u001b[1;32m      1\u001b[0m response = iot.accept_certificate_transfer(\n\u001b[1;32m      2\u001b[0m     \u001b[0mcertificateId\u001b[0m\u001b[0;34m=\u001b[0m\u001b[0mcertId\u001b[0m\u001b[0;34m,\u001b[0m\u001b[0;34m\u001b[0m\u001b[0m\n\u001b[0;32m----> 3\u001b[0;31m     \u001b[0msetAsActive\u001b[0m\u001b[0;34m=\u001b[0m\u001b[0;32mFalse\u001b[0m\u001b[0;34m\u001b[0m\u001b[0m\n\u001b[0m\u001b[1;32m      4\u001b[0m )\n",
      "\u001b[0;32m~/.local/lib/python3.6/site-packages/botocore/client.py\u001b[0m in \u001b[0;36m_api_call\u001b[0;34m(self, *args, **kwargs)\u001b[0m\n\u001b[1;32m    312\u001b[0m                     \"%s() only accepts keyword arguments.\" % py_operation_name)\n\u001b[1;32m    313\u001b[0m             \u001b[0;31m# The \"self\" in this scope is referring to the BaseClient.\u001b[0m\u001b[0;34m\u001b[0m\u001b[0;34m\u001b[0m\u001b[0m\n\u001b[0;32m--> 314\u001b[0;31m             \u001b[0;32mreturn\u001b[0m \u001b[0mself\u001b[0m\u001b[0;34m.\u001b[0m\u001b[0m_make_api_call\u001b[0m\u001b[0;34m(\u001b[0m\u001b[0moperation_name\u001b[0m\u001b[0;34m,\u001b[0m \u001b[0mkwargs\u001b[0m\u001b[0;34m)\u001b[0m\u001b[0;34m\u001b[0m\u001b[0m\n\u001b[0m\u001b[1;32m    315\u001b[0m \u001b[0;34m\u001b[0m\u001b[0m\n\u001b[1;32m    316\u001b[0m         \u001b[0m_api_call\u001b[0m\u001b[0;34m.\u001b[0m\u001b[0m__name__\u001b[0m \u001b[0;34m=\u001b[0m \u001b[0mstr\u001b[0m\u001b[0;34m(\u001b[0m\u001b[0mpy_operation_name\u001b[0m\u001b[0;34m)\u001b[0m\u001b[0;34m\u001b[0m\u001b[0m\n",
      "\u001b[0;32m~/.local/lib/python3.6/site-packages/botocore/client.py\u001b[0m in \u001b[0;36m_make_api_call\u001b[0;34m(self, operation_name, api_params)\u001b[0m\n\u001b[1;32m    610\u001b[0m             \u001b[0merror_code\u001b[0m \u001b[0;34m=\u001b[0m \u001b[0mparsed_response\u001b[0m\u001b[0;34m.\u001b[0m\u001b[0mget\u001b[0m\u001b[0;34m(\u001b[0m\u001b[0;34m\"Error\"\u001b[0m\u001b[0;34m,\u001b[0m \u001b[0;34m{\u001b[0m\u001b[0;34m}\u001b[0m\u001b[0;34m)\u001b[0m\u001b[0;34m.\u001b[0m\u001b[0mget\u001b[0m\u001b[0;34m(\u001b[0m\u001b[0;34m\"Code\"\u001b[0m\u001b[0;34m)\u001b[0m\u001b[0;34m\u001b[0m\u001b[0m\n\u001b[1;32m    611\u001b[0m             \u001b[0merror_class\u001b[0m \u001b[0;34m=\u001b[0m \u001b[0mself\u001b[0m\u001b[0;34m.\u001b[0m\u001b[0mexceptions\u001b[0m\u001b[0;34m.\u001b[0m\u001b[0mfrom_code\u001b[0m\u001b[0;34m(\u001b[0m\u001b[0merror_code\u001b[0m\u001b[0;34m)\u001b[0m\u001b[0;34m\u001b[0m\u001b[0m\n\u001b[0;32m--> 612\u001b[0;31m             \u001b[0;32mraise\u001b[0m \u001b[0merror_class\u001b[0m\u001b[0;34m(\u001b[0m\u001b[0mparsed_response\u001b[0m\u001b[0;34m,\u001b[0m \u001b[0moperation_name\u001b[0m\u001b[0;34m)\u001b[0m\u001b[0;34m\u001b[0m\u001b[0m\n\u001b[0m\u001b[1;32m    613\u001b[0m         \u001b[0;32melse\u001b[0m\u001b[0;34m:\u001b[0m\u001b[0;34m\u001b[0m\u001b[0m\n\u001b[1;32m    614\u001b[0m             \u001b[0;32mreturn\u001b[0m \u001b[0mparsed_response\u001b[0m\u001b[0;34m\u001b[0m\u001b[0m\n",
      "\u001b[0;31mTransferAlreadyCompletedException\u001b[0m: An error occurred (TransferAlreadyCompletedException) when calling the AcceptCertificateTransfer operation: Transfer already completed for certificateId 1adc399815702d350dbc47cdad60adf0b0c7e5404955fbeec3e989482b822284"
     ]
    }
   ],
   "source": [
    "response = iot.accept_certificate_transfer(\n",
    "    certificateId=certId,\n",
    "    setAsActive=False\n",
    ")"
   ]
  },
  {
   "cell_type": "code",
   "execution_count": null,
   "metadata": {},
   "outputs": [],
   "source": []
  },
  {
   "cell_type": "code",
   "execution_count": null,
   "metadata": {},
   "outputs": [],
   "source": []
  },
  {
   "cell_type": "code",
   "execution_count": null,
   "metadata": {},
   "outputs": [],
   "source": []
  },
  {
   "cell_type": "code",
   "execution_count": null,
   "metadata": {},
   "outputs": [],
   "source": []
  }
 ],
 "metadata": {
  "kernelspec": {
   "display_name": "Python 3",
   "language": "python",
   "name": "python3"
  },
  "language_info": {
   "codemirror_mode": {
    "name": "ipython",
    "version": 3
   },
   "file_extension": ".py",
   "mimetype": "text/x-python",
   "name": "python",
   "nbconvert_exporter": "python",
   "pygments_lexer": "ipython3",
   "version": "3.6.5"
  }
 },
 "nbformat": 4,
 "nbformat_minor": 2
}
