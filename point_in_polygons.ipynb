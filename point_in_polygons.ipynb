{
 "cells": [
  {
   "cell_type": "code",
   "execution_count": 1,
   "metadata": {},
   "outputs": [],
   "source": [
    "from shapely.geometry import Point, Polygon\n",
    "import geopandas\n",
    "import geopy\n",
    "\n",
    "# Create Point objects\n",
    "p1 = Point(24.952242, 60.1696017)\n",
    "p2 = Point(24.976567, 60.1612500)\n",
    "\n",
    "# Create a Polygon\n",
    "coords = [(24.950899, 60.169158), (24.953492, 60.169158), (24.953510, 60.170104), (24.950958, 60.169990)]\n",
    "poly = Polygon(coords)"
   ]
  },
  {
   "cell_type": "code",
   "execution_count": 2,
   "metadata": {},
   "outputs": [
    {
     "name": "stdout",
     "output_type": "stream",
     "text": [
      "POINT (24.952242 60.1696017)\n"
     ]
    }
   ],
   "source": [
    "print(p1)"
   ]
  },
  {
   "cell_type": "code",
   "execution_count": 3,
   "metadata": {},
   "outputs": [
    {
     "name": "stdout",
     "output_type": "stream",
     "text": [
      "POINT (24.976567 60.16125)\n"
     ]
    }
   ],
   "source": [
    "print(p2)"
   ]
  },
  {
   "cell_type": "code",
   "execution_count": 4,
   "metadata": {},
   "outputs": [
    {
     "name": "stdout",
     "output_type": "stream",
     "text": [
      "POLYGON ((24.950899 60.169158, 24.953492 60.169158, 24.95351 60.170104, 24.950958 60.16999, 24.950899 60.169158))\n"
     ]
    }
   ],
   "source": [
    "print(poly)"
   ]
  },
  {
   "cell_type": "code",
   "execution_count": 5,
   "metadata": {},
   "outputs": [
    {
     "data": {
      "image/svg+xml": [
       "<svg xmlns=\"http://www.w3.org/2000/svg\" xmlns:xlink=\"http://www.w3.org/1999/xlink\" width=\"100.0\" height=\"100.0\" viewBox=\"24.95079456 60.16905356 0.0028198800000041047 0.0011548800000014126\" preserveAspectRatio=\"xMinYMin meet\"><g transform=\"matrix(1,0,0,-1,0,120.339262)\"><path fill-rule=\"evenodd\" fill=\"#66cc99\" stroke=\"#555555\" stroke-width=\"5.639760000008209e-05\" opacity=\"0.6\" d=\"M 24.950899,60.169158 L 24.953492,60.169158 L 24.95351,60.170104 L 24.950958,60.16999 L 24.950899,60.169158 z\" /></g></svg>"
      ],
      "text/plain": [
       "<shapely.geometry.polygon.Polygon at 0x7f9b54547c50>"
      ]
     },
     "execution_count": 5,
     "metadata": {},
     "output_type": "execute_result"
    }
   ],
   "source": [
    "poly"
   ]
  },
  {
   "cell_type": "code",
   "execution_count": 6,
   "metadata": {},
   "outputs": [
    {
     "data": {
      "text/plain": [
       "True"
      ]
     },
     "execution_count": 6,
     "metadata": {},
     "output_type": "execute_result"
    }
   ],
   "source": [
    "p1.within(poly)"
   ]
  },
  {
   "cell_type": "code",
   "execution_count": 7,
   "metadata": {},
   "outputs": [
    {
     "data": {
      "text/plain": [
       "False"
      ]
     },
     "execution_count": 7,
     "metadata": {},
     "output_type": "execute_result"
    }
   ],
   "source": [
    "p2.within(poly)"
   ]
  },
  {
   "cell_type": "code",
   "execution_count": 8,
   "metadata": {},
   "outputs": [
    {
     "name": "stdout",
     "output_type": "stream",
     "text": [
      "POINT (24.95224242849236 60.16960179038188)\n"
     ]
    }
   ],
   "source": [
    "print(poly.centroid)"
   ]
  },
  {
   "cell_type": "code",
   "execution_count": 9,
   "metadata": {},
   "outputs": [],
   "source": [
    "def list_to_tuples(list_of_list):\n",
    "    list_of_tuples = [tuple(l) for l in list_of_list]\n",
    "    return list_of_tuples\n",
    "\n",
    "def tuples_to_list(list_of_tuples):\n",
    "    list_of_list = [list(l) for l in list_of_tuples]\n",
    "    return list_of_list\n",
    "\n",
    "def tuples_to_point(list_of_tuples):\n",
    "    list_of_points = [geopy.Point(_tuple[0], _tuple[1]) for _tuple in list_of_tuples] \n",
    "    return list_of_points\n",
    "        "
   ]
  },
  {
   "cell_type": "code",
   "execution_count": 10,
   "metadata": {},
   "outputs": [
    {
     "data": {
      "text/plain": [
       "geopy.point.Point"
      ]
     },
     "execution_count": 10,
     "metadata": {},
     "output_type": "execute_result"
    }
   ],
   "source": [
    "type(geopy.Point(1,1))"
   ]
  },
  {
   "cell_type": "code",
   "execution_count": 11,
   "metadata": {},
   "outputs": [],
   "source": [
    "coords = [\n",
    "          [13.42306137084961, 52.484701134806365],\n",
    "          [13.422988951206207, 52.484717468738616],\n",
    "          [13.422900438308716, 52.48472073552432],\n",
    "          [13.422817289829254, 52.48472563570245],\n",
    "          [13.422696590423584, 52.48472400230982],\n",
    "          [13.423050642013548, 52.48464396599576],\n",
    "          [13.422946035861969, 52.48464233260007],\n",
    "          [13.422838747501373, 52.484632532224694],\n",
    "          [13.422752916812897, 52.484616198260944],\n",
    "          [13.422626852989197, 52.484632532224694],\n",
    "          [13.422752916812897, 52.48469296783798],\n",
    "          [13.42267245054245, 52.48458679711083],\n",
    "          [13.422610759735107, 52.48455739594109],\n",
    "          [13.42264026403427, 52.484452858289536],\n",
    "          [13.422822654247284, 52.484398955965865],\n",
    "          [13.42279851436615, 52.484376088293466],\n",
    "          [13.42276632785797, 52.48434505357616],\n",
    "          [13.422830700874329, 52.48434832038955],\n",
    "          [13.422857522964478, 52.48433688654167],\n",
    "          [13.42280924320221, 52.48433525313458],\n",
    "          [13.42267245054245, 52.484279717257664],\n",
    "          [13.422664403915405, 52.48434832038955],\n",
    "          [13.42268854379654, 52.48442019022248],\n",
    "          [13.422632217407227, 52.48436465445281],\n",
    "          [13.422602713108061, 52.48434015335564],\n",
    "          [13.422594666481018, 52.48430748520489],\n",
    "          [13.422594666481018, 52.48426501657261],\n",
    "          [13.42268854379654, 52.484245415651614],\n",
    "          [13.422755599021912, 52.484263383162876],\n",
    "          [13.422852158546448, 52.48428135066681],\n",
    "          [13.422932624816895, 52.48433035291296],\n",
    "          [13.422862887382507, 52.484429990645154],\n",
    "          [13.422927260398863, 52.48441365660614]\n",
    "        ]\n",
    "\n",
    "coords = list_to_tuples(coords)\n",
    "coords = tuples_to_point(coords)"
   ]
  },
  {
   "cell_type": "code",
   "execution_count": 12,
   "metadata": {},
   "outputs": [
    {
     "data": {
      "text/plain": [
       "[Point(13.42306137084961, 52.484701134806365, 0.0),\n",
       " Point(13.422988951206207, 52.484717468738616, 0.0),\n",
       " Point(13.422900438308716, 52.48472073552432, 0.0),\n",
       " Point(13.422817289829254, 52.48472563570245, 0.0),\n",
       " Point(13.422696590423584, 52.48472400230982, 0.0),\n",
       " Point(13.423050642013548, 52.48464396599576, 0.0),\n",
       " Point(13.422946035861969, 52.48464233260007, 0.0),\n",
       " Point(13.422838747501373, 52.484632532224694, 0.0),\n",
       " Point(13.422752916812897, 52.484616198260944, 0.0),\n",
       " Point(13.422626852989197, 52.484632532224694, 0.0),\n",
       " Point(13.422752916812897, 52.48469296783798, 0.0),\n",
       " Point(13.42267245054245, 52.48458679711083, 0.0),\n",
       " Point(13.422610759735107, 52.48455739594109, 0.0),\n",
       " Point(13.42264026403427, 52.484452858289536, 0.0),\n",
       " Point(13.422822654247284, 52.484398955965865, 0.0),\n",
       " Point(13.42279851436615, 52.484376088293466, 0.0),\n",
       " Point(13.42276632785797, 52.48434505357616, 0.0),\n",
       " Point(13.422830700874329, 52.48434832038955, 0.0),\n",
       " Point(13.422857522964478, 52.48433688654167, 0.0),\n",
       " Point(13.42280924320221, 52.48433525313458, 0.0),\n",
       " Point(13.42267245054245, 52.484279717257664, 0.0),\n",
       " Point(13.422664403915405, 52.48434832038955, 0.0),\n",
       " Point(13.42268854379654, 52.48442019022248, 0.0),\n",
       " Point(13.422632217407227, 52.48436465445281, 0.0),\n",
       " Point(13.422602713108061, 52.48434015335564, 0.0),\n",
       " Point(13.422594666481018, 52.48430748520489, 0.0),\n",
       " Point(13.422594666481018, 52.48426501657261, 0.0),\n",
       " Point(13.42268854379654, 52.484245415651614, 0.0),\n",
       " Point(13.422755599021912, 52.484263383162876, 0.0),\n",
       " Point(13.422852158546448, 52.48428135066681, 0.0),\n",
       " Point(13.422932624816895, 52.48433035291296, 0.0),\n",
       " Point(13.422862887382507, 52.484429990645154, 0.0),\n",
       " Point(13.422927260398863, 52.48441365660614, 0.0)]"
      ]
     },
     "execution_count": 12,
     "metadata": {},
     "output_type": "execute_result"
    }
   ],
   "source": [
    "coords"
   ]
  },
  {
   "cell_type": "code",
   "execution_count": 13,
   "metadata": {},
   "outputs": [],
   "source": [
    "one = [[\n",
    "              13.423005044460297,\n",
    "              52.484732169272455\n",
    "            ],\n",
    "            [\n",
    "              13.422967493534086,\n",
    "              52.484732169272455\n",
    "            ],\n",
    "            [\n",
    "              13.422723412513731,\n",
    "              52.48465376636856\n",
    "            ],\n",
    "            [\n",
    "              13.42254102230072,\n",
    "              52.484545962147564\n",
    "            ],\n",
    "            [\n",
    "              13.422455191612244,\n",
    "              52.484392422346396\n",
    "            ],\n",
    "            [\n",
    "              13.42230498790741,\n",
    "              52.48426011634321\n",
    "            ],\n",
    "            [\n",
    "              13.422412276268005,\n",
    "              52.484263383162876\n",
    "            ],\n",
    "            [\n",
    "              13.422693908214569,\n",
    "              52.48418334601073\n",
    "            ],\n",
    "            [\n",
    "              13.423002362251282,\n",
    "              52.484198046723066\n",
    "            ],\n",
    "            [\n",
    "              13.423005044460297,\n",
    "              52.484732169272455\n",
    "            ]]"
   ]
  },
  {
   "cell_type": "code",
   "execution_count": 14,
   "metadata": {},
   "outputs": [],
   "source": [
    "two = [\n",
    "            [\n",
    "              13.422648310661316,\n",
    "              52.48426828339195\n",
    "            ],\n",
    "            [\n",
    "              13.42290312051773,\n",
    "              52.48432218587572\n",
    "            ],\n",
    "            [\n",
    "              13.422830700874329,\n",
    "              52.484462658704935\n",
    "            ],\n",
    "            [\n",
    "              13.422648310661316,\n",
    "              52.484358120828226\n",
    "            ],\n",
    "            [\n",
    "              13.422648310661316,\n",
    "              52.48426828339195\n",
    "            ]\n",
    "          ]"
   ]
  },
  {
   "cell_type": "code",
   "execution_count": 15,
   "metadata": {},
   "outputs": [],
   "source": [
    "three = [\n",
    "            [\n",
    "              13.422423005104065,\n",
    "              52.4845606627387\n",
    "            ],\n",
    "            [\n",
    "              13.422098457813263,\n",
    "              52.48415231115745\n",
    "            ],\n",
    "            [\n",
    "              13.422600030899046,\n",
    "              52.48410984237541\n",
    "            ],\n",
    "            [\n",
    "              13.422423005104065,\n",
    "              52.4845606627387\n",
    "            ]\n",
    "          ]"
   ]
  },
  {
   "cell_type": "code",
   "execution_count": 16,
   "metadata": {},
   "outputs": [
    {
     "data": {
      "text/plain": [
       "0    POLYGON ((13.42264831066132 52.48426828339195,...\n",
       "dtype: object"
      ]
     },
     "execution_count": 16,
     "metadata": {},
     "output_type": "execute_result"
    }
   ],
   "source": [
    "poly1 = Polygon(list_to_tuples(one))\n",
    "poly2 = Polygon(list_to_tuples(two))\n",
    "poly3 = Polygon(list_to_tuples(three))\n",
    "g = geopandas.GeoSeries([poly2])\n",
    "g"
   ]
  },
  {
   "cell_type": "code",
   "execution_count": 17,
   "metadata": {},
   "outputs": [
    {
     "data": {
      "text/plain": [
       "<matplotlib.axes._subplots.AxesSubplot at 0x7f9b1300f320>"
      ]
     },
     "execution_count": 17,
     "metadata": {},
     "output_type": "execute_result"
    }
   ],
   "source": [
    "g.plot()"
   ]
  },
  {
   "cell_type": "code",
   "execution_count": 18,
   "metadata": {},
   "outputs": [],
   "source": [
    "\n",
    "# index = list(range(len(coords)))\n",
    "# pnts = geopandas.GeoDataFrame(geometry=coords, index=index)\n",
    "# pnts = pnts.assign(**{key: pnts.within(geom) for key, geom in polys.items()})\n",
    "\n",
    "# print(pnts)"
   ]
  },
  {
   "cell_type": "code",
   "execution_count": 19,
   "metadata": {},
   "outputs": [
    {
     "name": "stdout",
     "output_type": "stream",
     "text": [
      "<class 'geopy.point.Point'>\n"
     ]
    },
    {
     "ename": "AttributeError",
     "evalue": "'Point' object has no attribute 'within'",
     "output_type": "error",
     "traceback": [
      "\u001b[0;31m---------------------------------------------------------------------------\u001b[0m",
      "\u001b[0;31mAttributeError\u001b[0m                            Traceback (most recent call last)",
      "\u001b[0;32m<ipython-input-19-147fc842fe79>\u001b[0m in \u001b[0;36m<module>\u001b[0;34m()\u001b[0m\n\u001b[1;32m      2\u001b[0m \u001b[0;32mfor\u001b[0m \u001b[0mpoint\u001b[0m \u001b[0;32min\u001b[0m \u001b[0mcoords\u001b[0m\u001b[0;34m:\u001b[0m\u001b[0;34m\u001b[0m\u001b[0m\n\u001b[1;32m      3\u001b[0m     \u001b[0mprint\u001b[0m\u001b[0;34m(\u001b[0m\u001b[0mtype\u001b[0m\u001b[0;34m(\u001b[0m\u001b[0mpoint\u001b[0m\u001b[0;34m)\u001b[0m\u001b[0;34m)\u001b[0m\u001b[0;34m\u001b[0m\u001b[0m\n\u001b[0;32m----> 4\u001b[0;31m     \u001b[0;32mif\u001b[0m \u001b[0mpoint\u001b[0m\u001b[0;34m.\u001b[0m\u001b[0mwithin\u001b[0m\u001b[0;34m(\u001b[0m\u001b[0mpoly2\u001b[0m\u001b[0;34m)\u001b[0m\u001b[0;34m:\u001b[0m\u001b[0;34m\u001b[0m\u001b[0m\n\u001b[0m\u001b[1;32m      5\u001b[0m         \u001b[0mpoints_within\u001b[0m\u001b[0;34m.\u001b[0m\u001b[0mappend\u001b[0m\u001b[0;34m(\u001b[0m\u001b[0mpoint\u001b[0m\u001b[0;34m)\u001b[0m\u001b[0;34m\u001b[0m\u001b[0m\n\u001b[1;32m      6\u001b[0m \u001b[0;34m\u001b[0m\u001b[0m\n",
      "\u001b[0;31mAttributeError\u001b[0m: 'Point' object has no attribute 'within'"
     ]
    }
   ],
   "source": [
    "points_within = []\n",
    "for point in coords:\n",
    "    print(type(point))\n",
    "    if point.within(poly2):\n",
    "        points_within.append(point)\n",
    "    \n",
    "points_within"
   ]
  },
  {
   "cell_type": "code",
   "execution_count": null,
   "metadata": {},
   "outputs": [],
   "source": []
  },
  {
   "cell_type": "code",
   "execution_count": null,
   "metadata": {},
   "outputs": [],
   "source": []
  }
 ],
 "metadata": {
  "kernelspec": {
   "display_name": "Python 3",
   "language": "python",
   "name": "python3"
  },
  "language_info": {
   "codemirror_mode": {
    "name": "ipython",
    "version": 3
   },
   "file_extension": ".py",
   "mimetype": "text/x-python",
   "name": "python",
   "nbconvert_exporter": "python",
   "pygments_lexer": "ipython3",
   "version": "3.6.5"
  }
 },
 "nbformat": 4,
 "nbformat_minor": 2
}
